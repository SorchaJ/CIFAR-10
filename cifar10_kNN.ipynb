{
 "cells": [
  {
   "cell_type": "code",
   "execution_count": 2,
   "id": "14eee1c7",
   "metadata": {},
   "outputs": [],
   "source": [
    "import numpy as np\n",
    "import matplotlib.pyplot as plt\n",
    "\n",
    "from sklearn.datasets import fetch_openml\n",
    "from sklearn.neighbors import KNeighborsClassifier\n",
    "from sklearn.model_selection import train_test_split\n",
    "from sklearn.inspection import DecisionBoundaryDisplay\n",
    "from sklearn.metrics import confusion_matrix, ConfusionMatrixDisplay\n",
    "\n",
    "seed = 1234\n",
    "np.random.seed(seed) "
   ]
  },
  {
   "cell_type": "code",
   "execution_count": 3,
   "id": "029eaeca",
   "metadata": {},
   "outputs": [],
   "source": [
    "# This may take a couple of minutes\n",
    "cifar_X, cifar_y = fetch_openml(\"CIFAR_10\", return_X_y=True, as_frame=False)\n",
    "\n",
    "# Convert labels from strings to integers\n",
    "cifar_y = cifar_y.astype(int)\n",
    "\n",
    "# Convert pixels from floats to integers\n",
    "cifar_X = cifar_X.astype(int)"
   ]
  },
  {
   "cell_type": "code",
   "execution_count": 7,
   "id": "622497b3",
   "metadata": {},
   "outputs": [],
   "source": [
    "cifar_X_tr, cifar_X_te, cifar_y_tr, cifar_y_te = train_test_split(cifar_X, cifar_y, test_size=0.4, \n",
    "                                                                  random_state=seed, shuffle=True)"
   ]
  },
  {
   "cell_type": "code",
   "execution_count": 8,
   "id": "3645c92c",
   "metadata": {},
   "outputs": [],
   "source": [
    "# Do a 50-50 split of validation and test data\n",
    "cifar_X_val, cifar_y_val = cifar_X_te[12000:], cifar_y_te[12000:]\n",
    "\n",
    "cifar_X_te, cifar_y_te   = cifar_X_te[:12000], cifar_y_te[:12000]"
   ]
  },
  {
   "cell_type": "code",
   "execution_count": 9,
   "id": "51f65bba",
   "metadata": {},
   "outputs": [
    {
     "name": "stdout",
     "output_type": "stream",
     "text": [
      "(36000, 3072) (36000,)\n",
      "(12000, 3072) (12000,)\n",
      "(12000, 3072) (12000,)\n"
     ]
    }
   ],
   "source": [
    "print(np.shape(cifar_X_tr), np.shape(cifar_y_tr))\n",
    "print(np.shape(cifar_X_val), np.shape(cifar_y_val))\n",
    "print(np.shape(cifar_X_te), np.shape(cifar_y_te))"
   ]
  },
  {
   "cell_type": "code",
   "execution_count": 12,
   "id": "a213378d",
   "metadata": {},
   "outputs": [
    {
     "data": {
      "text/plain": [
       "<matplotlib.image.AxesImage at 0x14510d42530>"
      ]
     },
     "execution_count": 12,
     "metadata": {},
     "output_type": "execute_result"
    },
    {
     "data": {
      "image/png": "[encoded data removed]",
      "text/plain": [
       "<Figure size 640x480 with 1 Axes>"
      ]
     },
     "metadata": {},
     "output_type": "display_data"
    }
   ],
   "source": [
    "# Testing to see how the data can be displayed\n",
    "fig, axes = plt.subplots() \n",
    "\n",
    "# Turn cifar_X_tr into 3x32x32 array representing RGB channels\n",
    "channels = np.reshape(cifar_X_tr[1], newshape=(3,32,32))\n",
    "\n",
    "transpose_channel = np.transpose(channels, (1,2,0))\n",
    "axes.imshow(transpose_channel, interpolation='nearest')"
   ]
  },
  {
   "cell_type": "code",
   "execution_count": null,
   "id": "f2fac370",
   "metadata": {},
   "outputs": [
    {
     "name": "stdout",
     "output_type": "stream",
     "text": [
      "Training knn classifer on k=1...\n",
      "Training knn classifer on k=2...\n",
      "Training knn classifer on k=3...\n",
      "Training knn classifer on k=4...\n",
      "Training knn classifer on k=5...\n",
      "Training knn classifer on k=6...\n"
     ]
    }
   ],
   "source": [
    "# Train knn classifier for different ks\n",
    "k_vals = [1, 2, 3, 4, 5, 6, 7, 8, 9, 10, 12, 15, 20]\n",
    "\n",
    "trainError = np.array([])\n",
    "validationError = np.array([])\n",
    "\n",
    "for k in k_vals:\n",
    "    print(f\"Training knn classifer on k={k}...\")\n",
    "    knn = KNeighborsClassifier(n_neighbors=k)\n",
    "    knn.fit(cifar_X_tr, cifar_y_tr)\n",
    "    trainError = np.append(trainError, 1-knn.score(cifar_X_tr, cifar_y_tr))\n",
    "    validationError = np.append(validationError, 1-knn.score(cifar_X_val, cifar_y_val))"
   ]
  },
  {
   "cell_type": "code",
   "execution_count": null,
   "id": "d7b17504",
   "metadata": {},
   "outputs": [],
   "source": [
    "# Plot training and validation error rates against k\n",
    "\n",
    "figure, axes = plt.subplots()\n",
    "\n",
    "axes.plot(k_vals, trainError, marker='x')\n",
    "axes.plot(k_vals, validationError, marker='x')\n",
    "\n",
    "axes.set_xticks([0, 5, 10, 15, 20])\n",
    "\n",
    "axes.set_title(\"Error Rate vs k\", size=16)\n",
    "\n",
    "axes.set_xlabel(\"k (Number of Neighbors)\", size=11)\n",
    "axes.set_ylabel(\"Error Rate\", size=11)\n",
    "\n",
    "axes.legend([\"Train\",\"Validation\"], loc=1)\n",
    "\n",
    "plt.show()"
   ]
  },
  {
   "cell_type": "code",
   "execution_count": null,
   "id": "ae5f853e",
   "metadata": {},
   "outputs": [],
   "source": [
    "# Find the minimum validation Error\n",
    "\n",
    "minTrain = trainError[1] \n",
    "minVal   = validationError[1]\n",
    "minIndex = 1\n",
    "\n",
    "for i in range(2, len(trainError)):\n",
    "    if minVal > validationError[i]:\n",
    "        minVal = validationError[i]\n",
    "        minTrain = trainError[i]\n",
    "        minIndex = k_vals[i]\n",
    "\n",
    "print(minTrain)\n",
    "print(minVal)\n",
    "print(minIndex)"
   ]
  },
  {
   "cell_type": "code",
   "execution_count": null,
   "id": "c91db798",
   "metadata": {},
   "outputs": [],
   "source": [
    "# Train on the best value of k\n",
    "knn = KNeighborsClassifier(n_neighbors=9)\n",
    "knn.fit(cifar_X_tr, cifar_y_tr)"
   ]
  },
  {
   "cell_type": "code",
   "execution_count": null,
   "id": "a0424b9e",
   "metadata": {},
   "outputs": [],
   "source": [
    "# calculate predictions on validation set\n",
    "\n",
    "y_val_pred = knn.predict(cifar_X_val)\n",
    "    "
   ]
  },
  {
   "cell_type": "code",
   "execution_count": null,
   "id": "b071443c",
   "metadata": {},
   "outputs": [],
   "source": [
    "print(\"0:airplane 1:automobile 2:bird 3:cat 4:deer 5:dog 6:frog 7:horse 8:ship 9:truck\")\n",
    "\n",
    "# confusion matrix\n",
    "cm = confusion_matrix(cifar_y_val, y_val_pred)\n",
    "confMatrix = ConfusionMatrixDisplay(confusion_matrix = cm)\n",
    "confMatrix.plot();"
   ]
  },
  {
   "cell_type": "code",
   "execution_count": null,
   "id": "6470c911",
   "metadata": {},
   "outputs": [],
   "source": [
    "# graph training set size vs training and validation error rates\n",
    "\n",
    "trainAndVal_X = np.concatenate((cifar_X_tr, cifar_X_val))\n",
    "trainAndVal_y = np.concatenate((cifar_y_tr, cifar_y_val))\n",
    "\n",
    "sizes = np.array([0.1, 0.2, 0.3, 0.4, 0.5, 0.6, 0.7, 0.8, 0.9])\n",
    "# Equivalent to: [43200,38400,33600,28800,24000,19200,14400,9600,4800]\n",
    "\n",
    "trainError2        = np.array([])\n",
    "validationError2   = np.array([])\n",
    "\n",
    "for sz in sizes:\n",
    "    print(f\"Training knn classifer on size={sz}...\")\n",
    "    cifar_X_tr2, cifar_X_val2, cifar_y_tr2, cifar_y_val2 = train_test_split(trainAndVal_X, trainAndVal_y, test_size=sz, \n",
    "                                                                            random_state=seed, shuffle=True)\n",
    "    knn = KNeighborsClassifier(n_neighbors=9)\n",
    "    knn.fit(cifar_X_tr2, cifar_y_tr2)\n",
    "    trainError2 = np.append(trainError2, 1-knn.score(cifar_X_tr2, cifar_y_tr2))\n",
    "    validationError2 = np.append(validationError2, 1-knn.score(cifar_X_val2, cifar_y_val2))\n",
    "    "
   ]
  },
  {
   "cell_type": "code",
   "execution_count": null,
   "id": "c7d6abb7",
   "metadata": {},
   "outputs": [],
   "source": [
    "# Plot training and validation error rates against the size of the training set\n",
    "\n",
    "figure, axes = plt.subplots()\n",
    "\n",
    "trainSizes = np.array([43200,38400,33600,28800,24000,19200,14400,9600,4800])\n",
    "\n",
    "axes.plot(trainSizes, trainError2, marker='x')\n",
    "axes.plot(trainSizes, validationError2, marker='x')\n",
    "\n",
    "axes.set_title(\"Error Rate vs Training Set Size\", size=16)\n",
    "\n",
    "axes.set_xlabel(\"Training Set Size\", size=11)\n",
    "axes.set_ylabel(\"Error Rate\", size=11)\n",
    "\n",
    "axes.legend([\"Train\",\"Validation\"], loc=1)\n",
    "\n",
    "plt.show()"
   ]
  },
  {
   "cell_type": "code",
   "execution_count": null,
   "id": "e3dcf837",
   "metadata": {},
   "outputs": [],
   "source": [
    "for i in [0.1, 0.2, 0.3, 0.4, 0.5, 0.6, 0.7, 0.8, 0.9]:\n",
    "    cifar_X_tr3, cifar_X_val3, cifar_y_tr3, cifar_y_val3 = train_test_split(trainAndVal_X, trainAndVal_y, test_size=i, \n",
    "                                                                                random_state=seed, shuffle=True)\n",
    "    print(np.shape(cifar_X_tr3), np.shape(cifar_X_val3))"
   ]
  },
  {
   "cell_type": "code",
   "execution_count": null,
   "id": "b7ffd776",
   "metadata": {},
   "outputs": [],
   "source": []
  }
 ],
 "metadata": {
  "kernelspec": {
   "display_name": "Python 3 (ipykernel)",
   "language": "python",
   "name": "python3"
  },
  "language_info": {
   "codemirror_mode": {
    "name": "ipython",
    "version": 3
   },
   "file_extension": ".py",
   "mimetype": "text/x-python",
   "name": "python",
   "nbconvert_exporter": "python",
   "pygments_lexer": "ipython3",
   "version": "3.10.6"
  }
 },
 "nbformat": 4,
 "nbformat_minor": 5
}
