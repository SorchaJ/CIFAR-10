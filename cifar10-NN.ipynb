{
 "cells": [
  {
   "cell_type": "code",
   "execution_count": 7,
   "id": "feb6bff5",
   "metadata": {},
   "outputs": [],
   "source": [
    "import numpy as np\n",
    "import matplotlib.pyplot as plt\n",
    "import torch\n",
    "import torchvision\n",
    "import ssl\n",
    "\n",
    "import torch.nn as nn\n",
    "import torch.nn.functional as F\n",
    "from torch.utils.data import random_split\n",
    "import torchvision.transforms as transforms\n",
    "\n",
    "seed = 1234\n",
    "np.random.seed(seed)\n",
    "\n",
    "ssl._create_default_https_context = ssl._create_unverified_context"
   ]
  },
  {
   "cell_type": "code",
   "execution_count": 8,
   "id": "3e28af14",
   "metadata": {},
   "outputs": [
    {
     "name": "stdout",
     "output_type": "stream",
     "text": [
      "Files already downloaded and verified\n",
      "40000 10000 10000\n"
     ]
    }
   ],
   "source": [
    "batch_size = 256\n",
    "\n",
    "gen = torch.Generator()\n",
    "gen.manual_seed(seed)\n",
    "transform = transforms.Compose(\n",
    "    [transforms.ToTensor(),\n",
    "     transforms.Normalize(0, 1)])\n",
    "\n",
    "trainset, valset = random_split(\n",
    "    torchvision.datasets.CIFAR10(root='./data', train=True, download=True, transform=transform),\n",
    "    [0.8, 0.2],\n",
    "    generator=gen\n",
    ")\n",
    "\n",
    "testset = torchvision.datasets.CIFAR10(root='./data', train=False, transform=transform)\n",
    "\n",
    "trainloader = torch.utils.data.DataLoader(trainset,\n",
    "    batch_size=batch_size, shuffle=True, num_workers=2, generator=gen)\n",
    "valloader = torch.utils.data.DataLoader(valset,\n",
    "    batch_size=batch_size, shuffle=True, num_workers=2, generator=gen)\n",
    "testloader = torch.utils.data.DataLoader(testset,\n",
    "    batch_size=batch_size, shuffle=True, num_workers=2, generator=gen)\n",
    "\n",
    "classes = ('plane', 'car', 'bird', 'cat',\n",
    "           'deer', 'dog', 'frog', 'horse', 'ship', 'truck')\n",
    "\n",
    "print(len(trainset), len(valset), len(testset))"
   ]
  },
  {
   "cell_type": "code",
   "execution_count": 9,
   "id": "6e78b111",
   "metadata": {},
   "outputs": [
    {
     "name": "stdout",
     "output_type": "stream",
     "text": [
      "FeedforwardNeuralNetModel(\n",
      "  (fc1): Linear(in_features=3072, out_features=100, bias=True)\n",
      "  (relu): ReLU()\n",
      "  (fc2): Linear(in_features=100, out_features=10, bias=True)\n",
      ")\n"
     ]
    }
   ],
   "source": [
    "class FeedforwardNeuralNetModel(nn.Module):\n",
    "    def __init__(self, input_dim, hidden_dim, output_dim):\n",
    "        super(FeedforwardNeuralNetModel, self).__init__()\n",
    "        # Linear function\n",
    "        self.fc1 = nn.Linear(3*input_dim, hidden_dim) \n",
    "        # Non-linearity\n",
    "        self.relu = nn.ReLU()\n",
    "        # Linear function (readout)\n",
    "        self.fc2 = nn.Linear(hidden_dim, output_dim)  \n",
    "\n",
    "    def forward(self, x):\n",
    "        # Linear function\n",
    "        x = x.view(-1, 32*32*3)\n",
    "        out = self.fc1(x)\n",
    "        # Non-linearity\n",
    "        out = self.relu(out)\n",
    "        # Linear function (readout)\n",
    "        out = self.fc2(out)\n",
    "        return out\n",
    "\n",
    "input_dim = 32*32\n",
    "hidden_dim = 100\n",
    "output_dim = 10\n",
    "learning_rate = 0.1\n",
    "    \n",
    "model = FeedforwardNeuralNetModel(input_dim, hidden_dim, output_dim)\n",
    "print(model)\n",
    "\n",
    "torch.manual_seed(seed)\n",
    "criterion = nn.CrossEntropyLoss()\n",
    "optimizer = torch.optim.SGD(model.parameters(), lr=learning_rate)"
   ]
  },
  {
   "cell_type": "code",
   "execution_count": 10,
   "id": "cb4fdfde",
   "metadata": {},
   "outputs": [
    {
     "name": "stdout",
     "output_type": "stream",
     "text": [
      "Iteration: 500. Loss: 1.6735659837722778. Accuracy: 37.470001220703125\n",
      "Iteration: 1000. Loss: 1.7399672269821167. Accuracy: 37.650001525878906\n",
      "Iteration: 1500. Loss: 1.6339384317398071. Accuracy: 44.27000045776367\n",
      "Iteration: 2000. Loss: 1.4944013357162476. Accuracy: 43.7599983215332\n",
      "Iteration: 2500. Loss: 1.46949303150177. Accuracy: 43.93000030517578\n",
      "Iteration: 3000. Loss: 1.610303521156311. Accuracy: 44.279998779296875\n",
      "Iteration: 3500. Loss: 1.4482430219650269. Accuracy: 45.040000915527344\n",
      "Iteration: 4000. Loss: 1.4054844379425049. Accuracy: 47.880001068115234\n",
      "Iteration: 4500. Loss: 1.4764761924743652. Accuracy: 46.290000915527344\n",
      "Iteration: 5000. Loss: 1.4149024486541748. Accuracy: 46.900001525878906\n",
      "Iteration: 5500. Loss: 1.3545068502426147. Accuracy: 47.93000030517578\n",
      "Iteration: 6000. Loss: 1.3688201904296875. Accuracy: 47.83000183105469\n"
     ]
    }
   ],
   "source": [
    "iter = 0\n",
    "for epoch in range(40):\n",
    "    for i, (images, labels) in enumerate(trainloader):\n",
    "        # Load images with gradient accumulation capabilities\n",
    "\n",
    "        # Clear gradients w.r.t. parameters\n",
    "        optimizer.zero_grad()\n",
    "\n",
    "        # Forward pass to get output/logits\n",
    "        outputs = model(images)\n",
    "\n",
    "        # Calculate Loss: softmax --> cross entropy loss\n",
    "        loss = criterion(outputs, labels)\n",
    "\n",
    "        # Getting gradients w.r.t. parameters\n",
    "        loss.backward()\n",
    "\n",
    "        # Updating parameters\n",
    "        optimizer.step()\n",
    "\n",
    "        iter += 1\n",
    "\n",
    "        if iter % 500 == 0:\n",
    "            # Calculate Accuracy         \n",
    "            correct = 0\n",
    "            total = 0\n",
    "            # Iterate through test dataset\n",
    "            for images, labels in valloader:\n",
    "                # Load images with gradient accumulation capabilities\n",
    "\n",
    "                # Forward pass only to get logits/output\n",
    "                outputs = model(images)\n",
    "\n",
    "                # Get predictions from the maximum value\n",
    "                _, predicted = torch.max(outputs.data, 1)\n",
    "\n",
    "                # Total number of labels\n",
    "                total += labels.size(0)\n",
    "\n",
    "                # Total correct predictions\n",
    "                correct += (predicted == labels).sum()\n",
    "\n",
    "            accuracy = 100 * correct / total\n",
    "\n",
    "            # Print Loss\n",
    "            print('Iteration: {}. Loss: {}. Accuracy: {}'.format(iter, loss.item(), accuracy))"
   ]
  },
  {
   "cell_type": "code",
   "execution_count": 12,
   "id": "a03c2e49",
   "metadata": {},
   "outputs": [
    {
     "name": "stdout",
     "output_type": "stream",
     "text": [
      "Loss: 1.4100117683410645. Accuracy: 43.439998626708984\n"
     ]
    }
   ],
   "source": [
    "correct = 0\n",
    "total = 0\n",
    "# Iterate through test dataset\n",
    "for images, labels in testloader:\n",
    "    # Forward pass only to get logits/output\n",
    "    outputs = model(images)\n",
    "\n",
    "    # Get predictions from the maximum value\n",
    "    _, predicted = torch.max(outputs.data, 1)\n",
    "\n",
    "    # Total number of labels\n",
    "    total += labels.size(0)\n",
    "\n",
    "    # Total correct predictions\n",
    "    correct += (predicted == labels).sum()\n",
    "\n",
    "accuracy = 100 * correct / total\n",
    "\n",
    "# Print Loss\n",
    "print('Loss: {}. Accuracy: {}'.format(loss.item(), accuracy))"
   ]
  }
 ],
 "metadata": {
  "kernelspec": {
   "display_name": "Python 3 (ipykernel)",
   "language": "python",
   "name": "python3"
  },
  "language_info": {
   "codemirror_mode": {
    "name": "ipython",
    "version": 3
   },
   "file_extension": ".py",
   "mimetype": "text/x-python",
   "name": "python",
   "nbconvert_exporter": "python",
   "pygments_lexer": "ipython3",
   "version": "3.10.4"
  }
 },
 "nbformat": 4,
 "nbformat_minor": 5
}
