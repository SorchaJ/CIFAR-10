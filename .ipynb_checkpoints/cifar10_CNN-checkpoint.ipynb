{
 "cells": [
  {
   "cell_type": "code",
   "execution_count": 1,
   "id": "eade6838",
   "metadata": {},
   "outputs": [
    {
     "name": "stdout",
     "output_type": "stream",
     "text": [
      "cuda:0\n"
     ]
    }
   ],
   "source": [
    "import numpy as np\n",
    "import matplotlib.pyplot as plt\n",
    "import torch\n",
    "import torchvision\n",
    "\n",
    "import torch.nn as nn\n",
    "import torch.nn.functional as F\n",
    "import torch.optim as optim\n",
    "import torchvision.transforms as transforms\n",
    "\n",
    "seed = 1234\n",
    "np.random.seed(seed)\n",
    "\n",
    "device = torch.device('cuda:0' if torch.cuda.is_available() else 'cpu')\n",
    "\n",
    "# Assuming that we are on a CUDA machine, this should print a CUDA device:\n",
    "\n",
    "print(device)"
   ]
  },
  {
   "cell_type": "code",
   "execution_count": 2,
   "id": "96f3eab6",
   "metadata": {},
   "outputs": [
    {
     "name": "stdout",
     "output_type": "stream",
     "text": [
      "Files already downloaded and verified\n",
      "Files already downloaded and verified\n",
      "Files already downloaded and verified\n"
     ]
    }
   ],
   "source": [
    "# split data 60-20-20 for train, validation, and test sets respectively\n",
    "transform = transforms.Compose(\n",
    "    [transforms.ToTensor(),\n",
    "     transforms.Normalize((0.6, 0.6, 0.6), (0.2, 0.2, 0.2), (0.2, 0.2, 0.2))])\n",
    "\n",
    "batch_size = 4\n",
    "\n",
    "trainset = torchvision.datasets.CIFAR10(root='./data', train=True,\n",
    "                                        download=True, transform=transform)\n",
    "trainloader = torch.utils.data.DataLoader(trainset, batch_size=batch_size,\n",
    "                                          shuffle=True, num_workers=2)\n",
    "\n",
    "valset = torchvision.datasets.CIFAR10(root='./data', train=False,\n",
    "                                       download=True, transform=transform)\n",
    "valloader = torch.utils.data.DataLoader(valset, batch_size=batch_size,\n",
    "                                         shuffle=False, num_workers=2)\n",
    "\n",
    "testset = torchvision.datasets.CIFAR10(root='./data', train=False,\n",
    "                                       download=True, transform=transform)\n",
    "testloader = torch.utils.data.DataLoader(testset, batch_size=batch_size,\n",
    "                                         shuffle=False, num_workers=2)\n",
    "\n",
    "classes = ('plane', 'car', 'bird', 'cat',\n",
    "           'deer', 'dog', 'frog', 'horse', 'ship', 'truck')"
   ]
  },
  {
   "cell_type": "code",
   "execution_count": 3,
   "id": "859335a5",
   "metadata": {},
   "outputs": [
    {
     "name": "stderr",
     "output_type": "stream",
     "text": [
      "Clipping input data to the valid range for imshow with RGB data ([0..1] for floats or [0..255] for integers).\n"
     ]
    },
    {
     "data": {
      "image/png": "[encoded data removed]",
      "text/plain": [
       "<Figure size 640x480 with 1 Axes>"
      ]
     },
     "metadata": {},
     "output_type": "display_data"
    },
    {
     "name": "stdout",
     "output_type": "stream",
     "text": [
      "horse dog   plane horse\n"
     ]
    }
   ],
   "source": [
    "# functions to show an image\n",
    "\n",
    "# transpose image RGB channels so it can be viewed in color\n",
    "def imshow(img):\n",
    "    img = img / 2 + 0.5     # unnormalize\n",
    "    npimg = img.numpy()\n",
    "    plt.imshow(np.transpose(npimg, (1, 2, 0)))\n",
    "    plt.show()\n",
    "\n",
    "# get some random training images\n",
    "dataiter = iter(trainloader)\n",
    "images, labels = next(dataiter)\n",
    "\n",
    "# show images\n",
    "imshow(torchvision.utils.make_grid(images))\n",
    "# print labels\n",
    "print(' '.join(f'{classes[labels[j]]:5s}' for j in range(batch_size)))"
   ]
  },
  {
   "cell_type": "code",
   "execution_count": 4,
   "id": "672099b8",
   "metadata": {},
   "outputs": [
    {
     "name": "stdout",
     "output_type": "stream",
     "text": [
      "Net(\n",
      "  (conv1): Conv2d(3, 1050, kernel_size=(5, 5), stride=(1, 1))\n",
      "  (pool): MaxPool2d(kernel_size=2, stride=2, padding=0, dilation=1, ceil_mode=False)\n",
      "  (conv2): Conv2d(1050, 3150, kernel_size=(5, 5), stride=(1, 1))\n",
      "  (fc1): Linear(in_features=78750, out_features=120, bias=True)\n",
      "  (fc2): Linear(in_features=120, out_features=84, bias=True)\n",
      "  (fc3): Linear(in_features=84, out_features=10, bias=True)\n",
      ")\n"
     ]
    }
   ],
   "source": [
    "class Net(nn.Module):\n",
    "    def __init__(self):\n",
    "        super().__init__()\n",
    "        \n",
    "        self.conv1 = nn.Conv2d(3, 6, 5) # input 3 channel images, output 30 channel images, kernel size 5x5\n",
    "        self.pool = nn.MaxPool2d(2, 2) # 2x2 pooling\n",
    "        self.conv2 = nn.Conv2d(6, 16, 5)\n",
    "        self.fc1 = nn.Linear(16 * 5 * 5, 120)\n",
    "        self.fc2 = nn.Linear(120, 84)\n",
    "        self.fc3 = nn.Linear(84, 10)\n",
    "\n",
    "    def forward(self, x):\n",
    "        x = self.pool(F.relu(self.conv1(x)))\n",
    "        x = self.pool(F.relu(self.conv2(x)))\n",
    "        x = torch.flatten(x, 1) # flatten all dimensions except batch\n",
    "        x = F.relu(self.fc1(x))\n",
    "        x = F.relu(self.fc2(x))\n",
    "        x = self.fc3(x)\n",
    "        return x\n",
    "\n",
    "\n",
    "net = Net()\n",
    "print(net)"
   ]
  },
  {
   "cell_type": "code",
   "execution_count": 5,
   "id": "c921b0bc",
   "metadata": {},
   "outputs": [
    {
     "data": {
      "text/plain": [
       "Net(\n",
       "  (conv1): Conv2d(3, 1050, kernel_size=(5, 5), stride=(1, 1))\n",
       "  (pool): MaxPool2d(kernel_size=2, stride=2, padding=0, dilation=1, ceil_mode=False)\n",
       "  (conv2): Conv2d(1050, 3150, kernel_size=(5, 5), stride=(1, 1))\n",
       "  (fc1): Linear(in_features=78750, out_features=120, bias=True)\n",
       "  (fc2): Linear(in_features=120, out_features=84, bias=True)\n",
       "  (fc3): Linear(in_features=84, out_features=10, bias=True)\n",
       ")"
      ]
     },
     "execution_count": 5,
     "metadata": {},
     "output_type": "execute_result"
    }
   ],
   "source": [
    "net.to(device)"
   ]
  },
  {
   "cell_type": "code",
   "execution_count": 6,
   "id": "1d0c7cf5",
   "metadata": {},
   "outputs": [],
   "source": [
    "criterion = nn.CrossEntropyLoss()\n",
    "optimizer = optim.SGD(net.parameters(), lr=0.001, momentum=0.9)"
   ]
  },
  {
   "cell_type": "code",
   "execution_count": 7,
   "id": "a6edf41f",
   "metadata": {},
   "outputs": [
    {
     "name": "stdout",
     "output_type": "stream",
     "text": [
      "[1,  2000] loss: 1.884\n",
      "[1,  4000] loss: 1.577\n",
      "[1,  6000] loss: 1.419\n",
      "[1,  8000] loss: 1.320\n",
      "[1, 10000] loss: 1.255\n",
      "[1, 12000] loss: 1.200\n",
      "[2,  2000] loss: 1.078\n",
      "[2,  4000] loss: 1.035\n",
      "[2,  6000] loss: 1.041\n",
      "[2,  8000] loss: 0.995\n",
      "[2, 10000] loss: 0.992\n",
      "[2, 12000] loss: 0.940\n",
      "Finished Training\n"
     ]
    }
   ],
   "source": [
    "for epoch in range(2):  # loop over the dataset multiple times\n",
    "\n",
    "    running_loss = 0.0\n",
    "    for i, data in enumerate(trainloader, 0):\n",
    "        # get the inputs; data is a list of [inputs, labels]\n",
    "        #inputs, labels = data\n",
    "        inputs, labels = data[0].to(device), data[1].to(device)\n",
    "        \n",
    "        # zero the parameter gradients\n",
    "        optimizer.zero_grad()\n",
    "\n",
    "        # forward + backward + optimize\n",
    "        outputs = net(inputs)\n",
    "        loss = criterion(outputs, labels)\n",
    "        loss.backward()\n",
    "        optimizer.step()\n",
    "\n",
    "        # print statistics\n",
    "        running_loss += loss.item()\n",
    "        if i % 2000 == 1999:    # print every 2000 mini-batches\n",
    "            print(f'[{epoch + 1}, {i + 1:5d}] loss: {running_loss / 2000:.3f}')\n",
    "            running_loss = 0.0\n",
    "\n",
    "print('Finished Training')"
   ]
  },
  {
   "cell_type": "code",
   "execution_count": 8,
   "id": "9dc5b5e9",
   "metadata": {
    "scrolled": false
   },
   "outputs": [
    {
     "name": "stderr",
     "output_type": "stream",
     "text": [
      "Clipping input data to the valid range for imshow with RGB data ([0..1] for floats or [0..255] for integers).\n"
     ]
    },
    {
     "name": "stdout",
     "output_type": "stream",
     "text": [
      "['cat', 'ship', 'ship', 'plane']\n"
     ]
    },
    {
     "data": {
      "image/png": "[encoded data removed]",
      "text/plain": [
       "<Figure size 640x480 with 1 Axes>"
      ]
     },
     "metadata": {},
     "output_type": "display_data"
    },
    {
     "name": "stdout",
     "output_type": "stream",
     "text": [
      "GroundTruth:  cat   ship  ship  plane\n"
     ]
    }
   ],
   "source": [
    "dataiter = iter(valloader)\n",
    "nextData = next(dataiter)\n",
    "images, labels = nextData[0].to(device), nextData[1].to(device)\n",
    "\n",
    "# print images\n",
    "\n",
    "print([classes[labels[j]] for j in range(4)])\n",
    "\n",
    "# convert to using CPU instead of GPU since it's not compatible for imshow\n",
    "normalImages, normalLabels = images.to(torch.device('cpu')), labels.to(torch.device('cpu'))\n",
    "\n",
    "imshow(torchvision.utils.make_grid(normalImages))\n",
    "print('GroundTruth: ', ' '.join(f'{classes[normalLabels[j]]:5s}' for j in range(4)))\n"
   ]
  },
  {
   "cell_type": "code",
   "execution_count": 9,
   "id": "5f01cfa1",
   "metadata": {},
   "outputs": [
    {
     "name": "stdout",
     "output_type": "stream",
     "text": [
      "Predicted:  cat   ship  ship  plane\n"
     ]
    }
   ],
   "source": [
    "outputs = net(images)\n",
    "\n",
    "# ignore first value\n",
    "_, predicted = torch.max(outputs, 1)\n",
    "\n",
    "print('Predicted: ', ' '.join(f'{classes[predicted[j]]:5s}'\n",
    "                              for j in range(4)))"
   ]
  },
  {
   "cell_type": "code",
   "execution_count": 10,
   "id": "792dc534",
   "metadata": {
    "scrolled": true
   },
   "outputs": [
    {
     "name": "stdout",
     "output_type": "stream",
     "text": [
      "Accuracy of the network on the 10000 test images: 66 %\n"
     ]
    }
   ],
   "source": [
    "correct = 0\n",
    "total = 0\n",
    "# since we're not training, we don't need to calculate the gradients for our outputs\n",
    "with torch.no_grad():\n",
    "    for data in valloader:\n",
    "        images, labels = data[0].to(device), data[1].to(device)\n",
    "        # calculate outputs by running images through the network\n",
    "        outputs = net(images)\n",
    "        # the class with the highest energy is what we choose as prediction\n",
    "        _, predicted = torch.max(outputs.data, 1)\n",
    "        total += labels.size(0)\n",
    "        correct += (predicted == labels).sum().item()\n",
    "\n",
    "print(f'Accuracy of the network on the 10000 test images: {100 * correct // total} %')"
   ]
  },
  {
   "cell_type": "code",
   "execution_count": 11,
   "id": "aee40618",
   "metadata": {},
   "outputs": [
    {
     "name": "stdout",
     "output_type": "stream",
     "text": [
      "Accuracy for class: plane is 79.3 %\n",
      "Accuracy for class: car   is 83.3 %\n",
      "Accuracy for class: bird  is 35.5 %\n",
      "Accuracy for class: cat   is 52.8 %\n",
      "Accuracy for class: deer  is 46.5 %\n",
      "Accuracy for class: dog   is 45.6 %\n",
      "Accuracy for class: frog  is 88.1 %\n",
      "Accuracy for class: horse is 75.4 %\n",
      "Accuracy for class: ship  is 81.9 %\n",
      "Accuracy for class: truck is 76.8 %\n"
     ]
    }
   ],
   "source": [
    "# prepare to count predictions for each class\n",
    "correct_pred = {classname: 0 for classname in classes}\n",
    "total_pred = {classname: 0 for classname in classes}\n",
    "\n",
    "# again no gradients needed\n",
    "with torch.no_grad():\n",
    "    for data in testloader:\n",
    "        images, labels = data[0].to(device), data[1].to(device)\n",
    "        outputs = net(images)\n",
    "        _, predictions = torch.max(outputs, 1)\n",
    "        # collect the correct predictions for each class\n",
    "        for label, prediction in zip(labels, predictions):\n",
    "            if label == prediction:\n",
    "                correct_pred[classes[label]] += 1\n",
    "            total_pred[classes[label]] += 1\n",
    "\n",
    "\n",
    "# print accuracy for each class\n",
    "for classname, correct_count in correct_pred.items():\n",
    "    accuracy = 100 * float(correct_count) / total_pred[classname]\n",
    "    print(f'Accuracy for class: {classname:5s} is {accuracy:.1f} %')"
   ]
  },
  {
   "cell_type": "markdown",
   "id": "5f774475",
   "metadata": {},
   "source": [
    "(gonna redo cause on the second conv2d accidentally made the output smaller than the input which may have made it less accurate) \n",
    "For 2025 output channel images:\n",
    "\n",
    "Accuracy of the network on the 10000 test images: 64 %\n",
    "\n",
    "Accuracy for class: plane is 76.5 %\n",
    "\n",
    "Accuracy for class: car   is 90.2 %\n",
    "\n",
    "Accuracy for class: bird  is 59.7 %\n",
    "\n",
    "Accuracy for class: cat   is 45.3 %\n",
    "\n",
    "Accuracy for class: deer  is 41.0 %\n",
    "\n",
    "Accuracy for class: dog   is 45.1 %\n",
    "\n",
    "Accuracy for class: frog  is 72.0 %\n",
    "\n",
    "Accuracy for class: horse is 75.9 %\n",
    "\n",
    "Accuracy for class: ship  is 66.5 %\n",
    "\n",
    "Accuracy for class: truck is 68.4 %\n"
   ]
  },
  {
   "cell_type": "markdown",
   "id": "d595a122",
   "metadata": {},
   "source": [
    "For 30 output channel images (60 output on the second conv2d):\n",
    "\n",
    "Accuracy of the network on the 10000 test images: 61 %\n",
    "\n",
    "Accuracy for class: plane is 46.2 %\n",
    "\n",
    "Accuracy for class: car   is 83.4 %\n",
    "\n",
    "Accuracy for class: bird  is 45.7 %\n",
    "\n",
    "Accuracy for class: cat   is 33.0 %\n",
    "\n",
    "Accuracy for class: deer  is 50.1 %\n",
    "\n",
    "Accuracy for class: dog   is 50.5 %\n",
    "\n",
    "Accuracy for class: frog  is 83.6 %\n",
    "\n",
    "Accuracy for class: horse is 67.7 %\n",
    "\n",
    "Accuracy for class: ship  is 90.2 %\n",
    "\n",
    "Accuracy for class: truck is 61.7 %"
   ]
  },
  {
   "cell_type": "code",
   "execution_count": null,
   "id": "b03fc45a",
   "metadata": {},
   "outputs": [],
   "source": [
    "For 1050 output channel images (2150 output on the second conv2d):\n",
    "\n",
    "Accuracy of the network on the 10000 test images: 66 %\n",
    "    \n",
    "Accuracy for class: plane is 79.3 %\n",
    "    \n",
    "Accuracy for class: car   is 83.3 %\n",
    "    \n",
    "Accuracy for class: bird  is 35.5 %\n",
    "    \n",
    "Accuracy for class: cat   is 52.8 %\n",
    "    \n",
    "Accuracy for class: deer  is 46.5 %\n",
    "    \n",
    "Accuracy for class: dog   is 45.6 %\n",
    "    \n",
    "Accuracy for class: frog  is 88.1 %\n",
    "    \n",
    "Accuracy for class: horse is 75.4 %\n",
    "    \n",
    "Accuracy for class: ship  is 81.9 %\n",
    "    \n",
    "Accuracy for class: truck is 76.8 %\n",
    "\n",
    "[1,  2000] loss: 1.884\n",
    "    \n",
    "[1,  4000] loss: 1.577\n",
    "    \n",
    "[1,  6000] loss: 1.419\n",
    "    \n",
    "[1,  8000] loss: 1.320\n",
    "    \n",
    "[1, 10000] loss: 1.255\n",
    "    \n",
    "[1, 12000] loss: 1.200\n",
    "    \n",
    "[2,  2000] loss: 1.078\n",
    "    \n",
    "[2,  4000] loss: 1.035\n",
    "    \n",
    "[2,  6000] loss: 1.041\n",
    "    \n",
    "[2,  8000] loss: 0.995\n",
    "    \n",
    "[2, 10000] loss: 0.992\n",
    "    \n",
    "[2, 12000] loss: 0.940\n",
    "    "
   ]
  },
  {
   "cell_type": "code",
   "execution_count": null,
   "id": "c33ee73d",
   "metadata": {},
   "outputs": [],
   "source": []
  }
 ],
 "metadata": {
  "kernelspec": {
   "display_name": "Python 3 (ipykernel)",
   "language": "python",
   "name": "python3"
  },
  "language_info": {
   "codemirror_mode": {
    "name": "ipython",
    "version": 3
   },
   "file_extension": ".py",
   "mimetype": "text/x-python",
   "name": "python",
   "nbconvert_exporter": "python",
   "pygments_lexer": "ipython3",
   "version": "3.10.6"
  }
 },
 "nbformat": 4,
 "nbformat_minor": 5
}
